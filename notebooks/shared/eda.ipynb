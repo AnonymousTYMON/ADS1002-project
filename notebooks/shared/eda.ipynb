{
 "cells": [
  {
   "cell_type": "markdown",
   "metadata": {},
   "source": [
    "# Exploratory Data Analysis\n",
    "\n",
    "- data summarisation\n",
    "- data visualisation (graphs)\n",
    "- hypothesis (heatmaps)"
   ]
  }
 ],
 "metadata": {
  "language_info": {
   "name": "python"
  }
 },
 "nbformat": 4,
 "nbformat_minor": 2
}
