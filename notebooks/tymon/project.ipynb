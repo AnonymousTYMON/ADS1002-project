import pandas as pd
import matplotlib.pyplot as plt
import seaborn as sns
import numpy as np
import glob


# Load the CSV file
DATA201509 = pd.read_csv('DATA201509_TAS1.csv')
DATA201512 = pd.read_csv('DATA201512_TAS1.csv')
DATA201604 = pd.read_csv('DATA201604_TAS1.csv')
DATA201607 = pd.read_csv('DATA201607_TAS1.csv')
DATA201701 = pd.read_csv('DATA201701_TAS1.csv')
DATA201712 = pd.read_csv('DATA201712_TAS1.csv')
DATA201801 = pd.read_csv('DATA201801_TAS1.csv')
DATA201810 = pd.read_csv('DATA201810_TAS1.csv')
DATA201903 = pd.read_csv('DATA201903_TAS1.csv')
DATA201910 = pd.read_csv('DATA201910_TAS1.csv')
DATA201911 = pd.read_csv('DATA201911_TAS1.csv')
