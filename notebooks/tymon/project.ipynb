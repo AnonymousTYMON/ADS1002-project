{
 "cells": [
  {
   "cell_type": "code",
   "execution_count": null,
   "id": "92ff914f",
   "metadata": {},
   "outputs": [],
   "source": [
    "import pandas as pd\n",
    "\n",
    "# Load the CSV file\n",
    "df = pd.read_csv(\"DATA200001_VIC1.csv\")\n",
    "\n",
    "DATA201509 = pd.read_csv('DATA201509_TAS1.csv')\n",
    "DATA201512 = pd.read_csv('DATA201512_TAS1.csv')\n",
    "DATA201604 = pd.read_csv('DATA201604_TAS1.csv')\n",
    "DATA201607 = pd.read_csv('DATA201607_TAS1.csv')\n",
    "DATA201701 = pd.read_csv('DATA201701_TAS1.csv')\n",
    "DATA201712 = pd.read_csv('DATA201712_TAS1.csv')\n",
    "DATA201801 = pd.read_csv('DATA201801_TAS1.csv')\n",
    "DATA201810 = pd.read_csv('DATA201810_TAS1.csv')\n",
    "DATA201903 = pd.read_csv('DATA201903_TAS1.csv')\n",
    "DATA201910 = pd.read_csv('DATA201910_TAS1.csv')\n",
    "DATA201911 = pd.read_csv('DATA201911_TAS1.csv')"
   ]
  }
 ],
 "metadata": {
  "language_info": {
   "name": "python"
  }
 },
 "nbformat": 4,
 "nbformat_minor": 5
}
