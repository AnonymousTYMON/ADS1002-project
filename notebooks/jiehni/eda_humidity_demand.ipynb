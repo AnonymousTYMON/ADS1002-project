{
 "cells": [
  {
   "cell_type": "markdown",
   "metadata": {},
   "source": [
    "# Research Questions   \n",
    "Does humidity have a measurable effect on electricity consumption?\n",
    "\n",
    "Are there seasonal patterns in how humidity impacts demand?"
   ]
  },
  {
   "cell_type": "code",
   "execution_count": null,
   "metadata": {},
   "outputs": [],
   "source": []
  }
 ],
 "metadata": {
  "language_info": {
   "name": "python"
  }
 },
 "nbformat": 4,
 "nbformat_minor": 2
}
