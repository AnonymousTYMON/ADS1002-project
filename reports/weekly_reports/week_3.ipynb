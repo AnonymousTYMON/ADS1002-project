{
 "cells": [
  {
   "cell_type": "markdown",
   "metadata": {},
   "source": [
    "# Week 3 Report\n",
    "---\n",
    "---"
   ]
  },
  {
   "cell_type": "markdown",
   "metadata": {},
   "source": [
    "### Week 3 Deliverables\n",
    "- Fill in the schej by eod 12.08.25: https://timeful.app/e/DDEBd\n",
    "- Sign the team contract\n",
    "- Assign research questions\n",
    "- Complete data processing for assigned state:\n",
    "    - Harjas: QLD\n",
    "    - Jiehni: VIC\n",
    "    - Rohan: NSW\n",
    "    - Tymon: TAS\n",
    "    - Guanyu: SA\n",
    "---"
   ]
  },
  {
   "cell_type": "markdown",
   "metadata": {},
   "source": [
    "### Thursday 14.08.2025 Meeting \n",
    "#### Goals:\n",
    "- Sign the team contract (done)\n",
    "- Update on everyone's data processing (done)\n",
    "- Assign research questions (done)\n",
    "- Add teaching team to the githhub repo (done)\n",
    "### Meeting Notes:\n",
    "- Everyone showed up! (core 5 at least)\n",
    "- Everyone is starting their data processing today\n",
    "- Assigned research questions:\n",
    "    - Harjas: temperature\n",
    "        - How does air temperature influence total energy demand?\n",
    "        - Do temperature–demand patterns differ between summer and winter?\n",
    "    - Jiehni: humidity\n",
    "        - Does humidity have a measurable effect on electricity consumption?\n",
    "        - Are there seasonal patterns in how humidity impacts demand?\n",
    "    - Rohan: precipitation\n",
    "        - Does the presence of rainfall (vs no rain) significantly change electricity demand?\n",
    "    - Tymon: time of day\n",
    "        - What are the characteristic daily demand curves?\n",
    "        - How does demand change during peak vs off-peak hours?\n",
    "    - Guanyu: wind\n",
    "        - Does wind speed influence electricity demand directly or indirectly (through temperature/wind chill)?\n",
    "### New Deliverables:\n",
    "- Complete data processing\n",
    "- Extension: start analysing with your own clean data + assigned topic\n",
    "---"
   ]
  }
 ],
 "metadata": {
  "kernelspec": {
   "display_name": "Python 3",
   "language": "python",
   "name": "python3"
  },
  "language_info": {
   "codemirror_mode": {
    "name": "ipython",
    "version": 3
   },
   "file_extension": ".py",
   "mimetype": "text/x-python",
   "name": "python",
   "nbconvert_exporter": "python",
   "pygments_lexer": "ipython3",
   "version": "3.10.5"
  }
 },
 "nbformat": 4,
 "nbformat_minor": 2
}
