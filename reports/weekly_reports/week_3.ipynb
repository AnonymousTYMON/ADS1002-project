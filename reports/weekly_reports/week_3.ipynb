{
 "cells": [
  {
   "cell_type": "markdown",
   "metadata": {},
   "source": [
    "# Week 3 Report\n",
    "---\n",
    "---"
   ]
  },
  {
   "cell_type": "markdown",
   "metadata": {},
   "source": [
    "### Week 3 Deliverables\n",
    "- Fill in the schej by eod 12.08.25: https://timeful.app/e/DDEBd\n",
    "- Sign the team contract\n",
    "- Assign research questions\n",
    "- Complete data processing for assigned state:\n",
    "    - Harjas: QLD\n",
    "    - Jiehni: VIC\n",
    "    - Rohan: NSW\n",
    "    - Tymon: TAS\n",
    "    - Guanyu: SA\n",
    "---"
   ]
  },
  {
   "cell_type": "markdown",
   "metadata": {},
   "source": [
    "### Thursday 14.08.2025 Meeting \n",
    "#### Goals:\n",
    "- Sign the team contract\n",
    "- Update on everyone's data processing\n",
    "- Assign research questions\n",
    "- Add teaching team to the githhub repo\n",
    "### Meeting Notes:\n",
    "\n",
    "### New Deliverables:\n",
    "---"
   ]
  }
 ],
 "metadata": {
  "kernelspec": {
   "display_name": "Python 3",
   "language": "python",
   "name": "python3"
  },
  "language_info": {
   "codemirror_mode": {
    "name": "ipython",
    "version": 3
   },
   "file_extension": ".py",
   "mimetype": "text/x-python",
   "name": "python",
   "nbconvert_exporter": "python",
   "pygments_lexer": "ipython3",
   "version": "3.10.5"
  }
 },
 "nbformat": 4,
 "nbformat_minor": 2
}
